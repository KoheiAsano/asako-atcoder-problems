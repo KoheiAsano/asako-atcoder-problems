{
 "cells": [
  {
   "cell_type": "code",
   "execution_count": 22,
   "metadata": {},
   "outputs": [
    {
     "name": "stdout",
     "output_type": "stream",
     "text": [
      "[[1 2 3]\n",
      " [2 3 1]\n",
      " [3 1 2]]\n",
      "[[1 2 3]\n",
      " [2 3 1]\n",
      " [3 1 2]]\n"
     ]
    }
   ],
   "source": [
    "import numpy as np\n",
    "A = np.array([[1, 2, 3], [2, 3, 1], [3, 1, 2]])\n",
    "print(A)\n",
    "print(A.transpose())"
   ]
  },
  {
   "cell_type": "code",
   "execution_count": 27,
   "metadata": {},
   "outputs": [
    {
     "data": {
      "text/plain": [
       "array([[14, 11, 11],\n",
       "       [11, 14, 11],\n",
       "       [11, 11, 14]])"
      ]
     },
     "execution_count": 27,
     "metadata": {},
     "output_type": "execute_result"
    }
   ],
   "source": [
    "def mul(A, B):\n",
    "\n",
    "    if len(A[0]) != len(B):\n",
    "        raise \"aaa\"\n",
    "    l = len(A[0])\n",
    "    resmat = np.array([[0 for _ in range(len(A[0]))] for __ in range(len(B))])\n",
    "    for i in range(len(A[0])):\n",
    "        for j in range(len(B)):\n",
    "            for k in range(len(B)):\n",
    "                resmat[i][j] += A[i][k]*B[k][j]\n",
    "    return resmat\n",
    "mul(A, A)"
   ]
  },
  {
   "cell_type": "code",
   "execution_count": 36,
   "metadata": {},
   "outputs": [],
   "source": [
    "def matpow(A, n):\n",
    "    if n == 0:\n",
    "        return np.array([[1, 0, 0], [0, 1, 0], [0, 0, 1]])\n",
    "    resmat = A\n",
    "    for i in range(n-1):\n",
    "        resmat = mul(resmat, A)\n",
    "    return resmat"
   ]
  },
  {
   "cell_type": "code",
   "execution_count": 39,
   "metadata": {},
   "outputs": [
    {
     "data": {
      "text/plain": [
       "array([[1, 0, 0],\n",
       "       [0, 1, 0],\n",
       "       [0, 0, 1]])"
      ]
     },
     "execution_count": 39,
     "metadata": {},
     "output_type": "execute_result"
    }
   ],
   "source": [
    "matpow(A, 0)"
   ]
  },
  {
   "cell_type": "code",
   "execution_count": 47,
   "metadata": {},
   "outputs": [
    {
     "name": "stdout",
     "output_type": "stream",
     "text": [
      "89 89\n"
     ]
    }
   ],
   "source": [
    "# calculate fibonacci\n",
    "n = 10\n",
    "def rec_fib(n):\n",
    "    if n == 0 or n == 1:\n",
    "        return 1\n",
    "    else:\n",
    "        return rec_fib(n-1) + rec_fib(n-2)\n",
    "\n",
    "fib = np.array([[1, 1], [1, 0]])\n",
    "print(matpow(fib, n)[0][0], rec_fib(n))"
   ]
  }
 ],
 "metadata": {
  "kernelspec": {
   "display_name": "Python 3",
   "language": "python",
   "name": "python3"
  },
  "language_info": {
   "codemirror_mode": {
    "name": "ipython",
    "version": 3
   },
   "file_extension": ".py",
   "mimetype": "text/x-python",
   "name": "python",
   "nbconvert_exporter": "python",
   "pygments_lexer": "ipython3",
   "version": "3.7.0"
  }
 },
 "nbformat": 4,
 "nbformat_minor": 2
}
