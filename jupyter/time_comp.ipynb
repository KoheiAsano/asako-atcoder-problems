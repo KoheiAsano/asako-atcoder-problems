{
 "cells": [
  {
   "cell_type": "code",
   "execution_count": 59,
   "metadata": {},
   "outputs": [],
   "source": [
    "def gcd(a,b):  # greatest common divisor\n",
    "    if (a<b):\n",
    "        a,b = b,a\n",
    "    while(b>0):\n",
    "        a,b = b ,a%b\n",
    "    return a\n",
    "\n",
    "def test(n):\n",
    "    gcd(10**9+7, n)"
   ]
  },
  {
   "cell_type": "code",
   "execution_count": 1,
   "metadata": {},
   "outputs": [],
   "source": [
    "def bit(n):\n",
    "    for pt in range((1 << n)):  # 1 == 線あり 0 == 線なし　とする\n",
    "        # if \"11\" in bin(pt): continue\n",
    "        for i in range(n):\n",
    "            if (1 << i) & pt:\n",
    "                i\n",
    "def test(n):\n",
    "    bit(n)"
   ]
  },
  {
   "cell_type": "code",
   "execution_count": 8,
   "metadata": {},
   "outputs": [],
   "source": [
    "import numpy as np\n",
    "from time import time\n",
    "import matplotlib.pyplot as plt\n",
    "N_MAX = 20"
   ]
  },
  {
   "cell_type": "code",
   "execution_count": 9,
   "metadata": {},
   "outputs": [],
   "source": [
    "# t = [0, 1, 2, 3, ..., N_MAX-1]\n",
    "t = np.arange(0, N_MAX, 1)\n",
    "comp = []\n",
    "for n in t:\n",
    "    start = time()\n",
    "    test(n)\n",
    "    end = time()\n",
    "    comp.append(end-start)"
   ]
  },
  {
   "cell_type": "code",
   "execution_count": 10,
   "metadata": {},
   "outputs": [
    {
     "data": {
      "image/png": "[encoded data removed]",
      "text/plain": [
       "<Figure size 432x288 with 1 Axes>"
      ]
     },
     "metadata": {
      "needs_background": "light"
     },
     "output_type": "display_data"
    }
   ],
   "source": [
    "plt.plot(t, comp, 'b')\n",
    "plt.xlabel('n')\n",
    "plt.ylabel('time')\n",
    "plt.show()"
   ]
  }
 ],
 "metadata": {
  "kernelspec": {
   "display_name": "Python 3",
   "language": "python",
   "name": "python3"
  },
  "language_info": {
   "codemirror_mode": {
    "name": "ipython",
    "version": 3
   },
   "file_extension": ".py",
   "mimetype": "text/x-python",
   "name": "python",
   "nbconvert_exporter": "python",
   "pygments_lexer": "ipython3",
   "version": "3.7.0"
  }
 },
 "nbformat": 4,
 "nbformat_minor": 2
}
