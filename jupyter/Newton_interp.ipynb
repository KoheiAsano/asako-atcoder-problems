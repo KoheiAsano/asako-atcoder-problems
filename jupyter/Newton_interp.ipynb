{
 "cells": [
  {
   "cell_type": "code",
   "execution_count": 17,
   "metadata": {},
   "outputs": [
    {
     "name": "stdout",
     "output_type": "stream",
     "text": [
      "[-5]\n",
      "[-5, -3.5714285714285716]\n",
      "[-5, -3.5714285714285716, -2.142857142857143]\n",
      "[-5, -3.5714285714285716, -2.142857142857143, -0.7142857142857143]\n",
      "[-5, -3.5714285714285716, -2.142857142857143, -0.7142857142857143, 0.7142857142857143]\n",
      "[-5, -3.5714285714285716, -2.142857142857143, -0.7142857142857143, 0.7142857142857143, 2.142857142857143]\n",
      "[-5, -3.5714285714285716, -2.142857142857143, -0.7142857142857143, 0.7142857142857143, 2.142857142857143, 3.5714285714285716]\n",
      "[-5, -3.5714285714285716, -2.142857142857143, -0.7142857142857143, 0.7142857142857143, 2.142857142857143, 3.5714285714285716, 5]\n",
      "[0.0196078431372549, 0.012679436670742202, 0.01037858899431794, 0.016802223481578657, -0.0102737547620521, 0.002464996858075911, -0.00028758296677552296, -0.0]\n"
     ]
    }
   ],
   "source": [
    "def diffq(f, args):\n",
    "    N = len(args)\n",
    "    if N == 0:\n",
    "        return\n",
    "    elif N == 1:\n",
    "        return f(args[0])\n",
    "    elif N >= 2:\n",
    "        return (diffq(f, args[:-1])-diffq(f, args[1:]))/(args[0]-args[-1])\n",
    "\n",
    "\n",
    "\n",
    "\n",
    "\n",
    "coef = []\n",
    "points = [-5, -25/7, -15/7, -5/7, 5/7, 15/7, 25/7, 5]\n",
    "func = lambda x:1/(1+2*(x**2))\n",
    "for i in range(len(points)):\n",
    "    print(points[:i+1])\n",
    "    coef.append(diffq(func, points[:i+1]))\n",
    "print(coef)\n"
   ]
  },
  {
   "cell_type": "code",
   "execution_count": null,
   "metadata": {},
   "outputs": [],
   "source": []
  }
 ],
 "metadata": {
  "kernelspec": {
   "display_name": "Python 3",
   "language": "python",
   "name": "python3"
  },
  "language_info": {
   "codemirror_mode": {
    "name": "ipython",
    "version": 3
   },
   "file_extension": ".py",
   "mimetype": "text/x-python",
   "name": "python",
   "nbconvert_exporter": "python",
   "pygments_lexer": "ipython3",
   "version": "3.7.0"
  }
 },
 "nbformat": 4,
 "nbformat_minor": 2
}
