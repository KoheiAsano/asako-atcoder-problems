{
 "cells": [
  {
   "cell_type": "code",
   "execution_count": null,
   "metadata": {},
   "outputs": [],
   "source": [
    "\n",
    "def f(x):\n",
    "    return 1/(1+2*(x**2))\n",
    "\n",
    "def diff(x1, x2):\n",
    "    return (fp(x1)-fo(x2))/(x1-x2)\n",
    "\n",
    "def diff3(x1, x2, x3):\n",
    "    return (diff(x1, x2) - diff(x2, x3))/(x1-x3)\n",
    "\n",
    "def diff4(x1, x2, x3, x4):\n",
    "    return (diff3(x1, x2, x3)-diff3(x2, x3, x4))/(x1-x4)\n",
    "\n",
    "def diff5(x1, x2, x3, x4, x5):\n",
    "    return (diff4(x1, x2, x3, x4)-diff4(x2, x3, x4, x5))/(x1-x5)\n",
    "\n",
    "def diff6(x1, x2, x3, x4, x5, x6):\n",
    "    return (diff5(x1, x2, x3, x4, x5)-diff5(x2, x3, x4, x5, x6))/(x1-x6)\n",
    "\n",
    "def diff7(x1, x2, x3, x4, x5, x6, x7):\n",
    "    return (diff6(x1, x2, x3, x4, x5, x6)-diff6(x2, x3, x4, x5, x6, x7))/(x1-x7)\n",
    "\n",
    "def diff8(x1, x2, x3, x4, x5, x6, x7, x8):\n",
    "    return (diff7(x1, x2, x3, x4, x5, x6, x7)-diff7(x2, x3, x4, x5, x6, x7, x8))/(x1-x8)\n",
    "\n",
    "a = f(-5)\n",
    "print(diff(-5, -25/7))\n",
    "b = diff(-5, -25/7)\n",
    "print(diff3(-5, -25/7, -15/7))\n",
    "c = diff3(-5, -25/7, -15/7)\n",
    "print(diff4(-5, -25/7, -15/7, -5/7))\n",
    "d = diff4(-5, -25/7, -15/7, -5/7)\n",
    "print(diff5(-5, -25/7, -15/7, -5/7, 5/7))\n",
    "e = diff5(-5, -25/7, -15/7, -5/7, 5/7)\n",
    "print(diff6(-5, -25/7, -15/7, -5/7, 5/7, 15/7))\n",
    "f = diff6(-5, -25/7, -15/7, -5/7, 5/7, 15/7)\n",
    "print(diff7(-5, -25/7, -15/7, -5/7, 5/7, 15/7, 25/7))\n",
    "g = diff7(-5, -25/7, -15/7, -5/7, 5/7, 15/7, 25/7)\n",
    "print(diff8(-5, -25/7, -15/7, -5/7, 5/7, 15/7, 25/7, 5))\n",
    "h = diff8(-5, -25/7, -15/7, -5/7, 5/7, 15/7, 25/7, 5)\n",
    "\n",
    "\n",
    "def newton7(x):\n",
    "    return a + (x+5)*b + (x+5)*(x+25/7)*c + (x+5)*(x+25/7)*(x+15/7)*d + (x+5)*(x+25/7)*(x+15/7)*(x+5/7)*e + (x+5)*(x+25/7)*(x+15/7)*(x+5/7)*(x-5/7)*f + (x+5)*(x+25/7)*(x+15/7)*(x+5/7)*(x-5/7)*(x-15/7)*g + (x+5)*(x+25/7)*(x+15/7)*(x+5/7)*(x-5/7)*(x-15/7)*g\n",
    "\n",
    "# def newton3(x):\n",
    "#     return a + (x+5)*b + (x+5)*(x+25/7)*c + \\\n",
    "#     (x+5)*(x+25/7)*(x+15/7)*d + (x+5)*(x+25/7)*(x+15/7)*(x+5/7)*e\n",
    "print(newton7(0))\n"
   ]
  }
 ],
 "metadata": {
  "kernelspec": {
   "display_name": "Python 3",
   "language": "python",
   "name": "python3"
  },
  "language_info": {
   "codemirror_mode": {
    "name": "ipython",
    "version": 3
   },
   "file_extension": ".py",
   "mimetype": "text/x-python",
   "name": "python",
   "nbconvert_exporter": "python",
   "pygments_lexer": "ipython3",
   "version": "3.7.0"
  }
 },
 "nbformat": 4,
 "nbformat_minor": 2
}
