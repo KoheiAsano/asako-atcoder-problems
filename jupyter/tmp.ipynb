{
 "cells": [
  {
   "cell_type": "code",
   "execution_count": null,
   "metadata": {},
   "outputs": [],
   "source": [
    "%timeit [0 for _ in range(10)]"
   ]
  },
  {
   "cell_type": "code",
   "execution_count": null,
   "metadata": {},
   "outputs": [],
   "source": [
    "# 識別子をがんばってfor文でとってくる\n",
    "from sys import exit, stderr\n",
    "from inspect import currentframe\n",
    "def debugI(*args, names=None):\n",
    "    if names is None:\n",
    "        names = {id(v):k for k,v in currentframe().f_back.f_locals.items()}\n",
    "    print(', '.join(names.get(id(arg),'???')+' = '+repr(arg) for arg in args), file=stderr)\n",
    "    return"
   ]
  },
  {
   "cell_type": "code",
   "execution_count": 7,
   "metadata": {},
   "outputs": [],
   "source": [
    "# ミニマムなの\n",
    "from sys import stderr\n",
    "def debug(var, name=\"hoge\"):\n",
    "    print(name +\":\" + str(type(var)) + \" = \" + repr(var), file=stderr)\n",
    "    return"
   ]
  },
  {
   "cell_type": "code",
   "execution_count": 11,
   "metadata": {},
   "outputs": [
    {
     "name": "stdout",
     "output_type": "stream",
     "text": [
      "3 ['2', ' ', '3', ' ', '1', '\\n']\n"
     ]
    }
   ],
   "source": [
    "with open('../py/input.txt','r') as f:\n",
    "    N = int(f.readline())\n",
    "    P = [f.readline()]\n",
    "print(N,P)"
   ]
  },
  {
   "cell_type": "markdown",
   "metadata": {},
   "source": [
    "3\n",
    "\n",
    "\n",
    "2 3 1"
   ]
  },
  {
   "cell_type": "code",
   "execution_count": 5,
   "metadata": {},
   "outputs": [
    {
     "name": "stdin",
     "output_type": "stream",
     "text": [
      " 3\n",
      " 2 3 1\n"
     ]
    }
   ],
   "source": [
    "N = int(input())\n",
    "P = list(map(lambda x:int(x),input().split()))"
   ]
  },
  {
   "cell_type": "code",
   "execution_count": null,
   "metadata": {},
   "outputs": [],
   "source": []
  }
 ],
 "metadata": {
  "kernelspec": {
   "display_name": "Python 3",
   "language": "python",
   "name": "python3"
  },
  "language_info": {
   "codemirror_mode": {
    "name": "ipython",
    "version": 3
   },
   "file_extension": ".py",
   "mimetype": "text/x-python",
   "name": "python",
   "nbconvert_exporter": "python",
   "pygments_lexer": "ipython3",
   "version": "3.7.0"
  }
 },
 "nbformat": 4,
 "nbformat_minor": 2
}
