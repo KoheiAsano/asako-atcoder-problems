{
 "cells": [
  {
   "cell_type": "code",
   "execution_count": 22,
   "metadata": {},
   "outputs": [],
   "source": [
    "class UnionFind():\n",
    "    #負の値はルートで集合の個数\n",
    "    #正の値は次の要素を返す\n",
    "    def __init__(self,size):\n",
    "        self.table = [-1 for _  in range(size)]\n",
    "\n",
    "    #集合の代表を求める\n",
    "    def find(self,x):\n",
    "        while self.table[x] >= 0:\n",
    "            #根に来た時,self.table[根のindex]は負の値なのでx = 根のindexで値が返される。\n",
    "            x = self.table[x]\n",
    "        return x\n",
    "\n",
    "    #併合\n",
    "    def union(self,x,y):\n",
    "        s1 = self.find(x)#根のindex,table[s1]がグラフの高さ\n",
    "        s2 = self.find(y)\n",
    "        if s1 != s2:#根が異なる場合\n",
    "            if self.table[s1] != self.table[s2]:#グラフの高さが異なる場合\n",
    "                if self.table[s1] < self.table[s2]:\n",
    "                    self.table[s2] = s1\n",
    "                else:\n",
    "                    self.table[s1] = s2\n",
    "            else:\n",
    "                #グラフの長さが同じ場合,どちらを根にしても変わらない\n",
    "                #その際,グラフが1長くなることを考慮する\n",
    "                self.table[s1] += -1\n",
    "                self.table[s2] = s1\n",
    "        return"
   ]
  },
  {
   "cell_type": "code",
   "execution_count": 37,
   "metadata": {},
   "outputs": [
    {
     "data": {
      "text/plain": [
       "[-1, -1, -1, -1, -1]"
      ]
     },
     "execution_count": 37,
     "metadata": {},
     "output_type": "execute_result"
    }
   ],
   "source": [
    "A = UnionFind(5)\n",
    "A.table"
   ]
  },
  {
   "cell_type": "code",
   "execution_count": 38,
   "metadata": {},
   "outputs": [],
   "source": [
    "A.union(0,1)\n",
    "A.union(1,2)"
   ]
  },
  {
   "cell_type": "code",
   "execution_count": 39,
   "metadata": {},
   "outputs": [
    {
     "data": {
      "text/plain": [
       "0"
      ]
     },
     "execution_count": 39,
     "metadata": {},
     "output_type": "execute_result"
    }
   ],
   "source": [
    "A.find(0)"
   ]
  },
  {
   "cell_type": "code",
   "execution_count": 42,
   "metadata": {
    "scrolled": true
   },
   "outputs": [
    {
     "data": {
      "text/plain": [
       "[-2, 0, 0, -2, 3]"
      ]
     },
     "execution_count": 42,
     "metadata": {},
     "output_type": "execute_result"
    }
   ],
   "source": [
    "A.table"
   ]
  },
  {
   "cell_type": "code",
   "execution_count": 41,
   "metadata": {},
   "outputs": [],
   "source": [
    "A.union(3,4)"
   ]
  },
  {
   "cell_type": "code",
   "execution_count": null,
   "metadata": {},
   "outputs": [],
   "source": []
  }
 ],
 "metadata": {
  "kernelspec": {
   "display_name": "Python 3",
   "language": "python",
   "name": "python3"
  },
  "language_info": {
   "codemirror_mode": {
    "name": "ipython",
    "version": 3
   },
   "file_extension": ".py",
   "mimetype": "text/x-python",
   "name": "python",
   "nbconvert_exporter": "python",
   "pygments_lexer": "ipython3",
   "version": "3.7.0"
  }
 },
 "nbformat": 4,
 "nbformat_minor": 2
}
